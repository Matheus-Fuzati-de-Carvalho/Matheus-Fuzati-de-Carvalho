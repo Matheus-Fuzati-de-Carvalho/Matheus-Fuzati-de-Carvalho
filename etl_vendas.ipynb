{
  "nbformat": 4,
  "nbformat_minor": 0,
  "metadata": {
    "colab": {
      "provenance": [],
      "authorship_tag": "ABX9TyP2Kn8hkZ1sAHqLjMlelNSr",
      "include_colab_link": true
    },
    "kernelspec": {
      "name": "python3",
      "display_name": "Python 3"
    },
    "language_info": {
      "name": "python"
    }
  },
  "cells": [
    {
      "cell_type": "markdown",
      "metadata": {
        "id": "view-in-github",
        "colab_type": "text"
      },
      "source": [
        "<a href=\"https://colab.research.google.com/github/Matheus-Fuzati-de-Carvalho/Matheus-Fuzati-de-Carvalho/blob/main/etl_vendas.ipynb\" target=\"_parent\"><img src=\"https://colab.research.google.com/assets/colab-badge.svg\" alt=\"Open In Colab\"/></a>"
      ]
    },
    {
      "cell_type": "markdown",
      "source": [
        "Pipeline ETL - Resultados de Vendas"
      ],
      "metadata": {
        "id": "zAg_xJuZVnZh"
      }
    },
    {
      "cell_type": "code",
      "execution_count": 420,
      "metadata": {
        "id": "yOYdPAuTVmHW"
      },
      "outputs": [],
      "source": [
        "# Importando bibliotecas\n",
        "\n",
        "# Autenticação\n",
        "from google.colab import auth\n",
        "auth.authenticate_user()\n",
        "import gspread\n",
        "from google.auth import default\n",
        "creds, _ = default()\n",
        "from gspread_dataframe import get_as_dataframe, set_with_dataframe\n",
        "gc = gspread.authorize(creds)\n",
        "\n",
        "\n",
        "# Manipulação e tratamento - Dados\n",
        "import pandas as pd\n",
        "from datetime import datetime, timedelta\n",
        "import pytz\n",
        "\n",
        "# Big Queryy\n",
        "import pandas_gbq\n",
        "from pandas_gbq import to_gbq\n",
        "from google.cloud import bigquery\n",
        "from google.oauth2 import service_account"
      ]
    },
    {
      "cell_type": "code",
      "source": [
        "# Desativando avisos\n",
        "pd.options.mode.chained_assignment = None"
      ],
      "metadata": {
        "id": "0TDjPQfhVqX3"
      },
      "execution_count": 421,
      "outputs": []
    },
    {
      "cell_type": "code",
      "source": [
        "# definindo função para abrir planilha\n",
        "def abrirPlanilha(plan, pag):\n",
        "  pagina = gc.open(plan)\n",
        "  pagina = pagina.get_worksheet(pag).get_all_values()\n",
        "  pagina = pd.DataFrame(pagina)\n",
        "  pagina.columns = pagina.iloc[0]\n",
        "  pagina = pagina[1:].reset_index(drop=True)\n",
        "  return pagina"
      ],
      "metadata": {
        "id": "d9tgsMrTVqUS"
      },
      "execution_count": 422,
      "outputs": []
    },
    {
      "cell_type": "code",
      "source": [
        "# Criando a variável com a data e hora de hoje para apresentar a data da atualização\n",
        "dt = pytz.timezone('America/Sao_Paulo')\n",
        "data_hora = datetime.now(dt).strftime(\"%d/%m/%Y, %H:%M:%S\")\n",
        "data =  data_hora.format(\"%d/%m/%Y\")"
      ],
      "metadata": {
        "id": "7uodw_FPVqSw"
      },
      "execution_count": 423,
      "outputs": []
    },
    {
      "cell_type": "markdown",
      "source": [
        "## Extração de dados"
      ],
      "metadata": {
        "id": "XJMfQWUJXAX4"
      }
    },
    {
      "cell_type": "code",
      "source": [
        "# Vendas - Google Sheets\n",
        "df_vendas = abrirPlanilha('vendas', 0)\n",
        "\n",
        "\n",
        "# Clientes - Excel\n",
        "df_clientes = pd.read_excel('/content/clientes.xlsx')\n",
        "\n",
        "\n",
        "# Produtos - Big Query\n",
        "credencial = service_account.Credentials.from_service_account_file(r'/content/cloud-engineer-444301-r6-a1e2ea45a24e.json',\n",
        "                                                                   scopes=['https://www.googleapis.com/auth/bigquery'])\n",
        "\n",
        "\n",
        "cliente = bigquery.Client(credentials=credencial, project=credencial.project_id)\n",
        "\n",
        "consulta = \"\"\"\n",
        "SELECT\n",
        "idProduto\n",
        ", nomeProduto\n",
        ", categoria\n",
        ", precoCusto\n",
        ", precoVenda\n",
        "FROM `cloud-engineer-444301-r6.case_tools.produtos`\n",
        "\"\"\"\n",
        "\n",
        "produtos_job = cliente.query(consulta)\n",
        "\n",
        "df_produtos = produtos_job.to_dataframe()"
      ],
      "metadata": {
        "id": "Ykw1N7bRVqOG"
      },
      "execution_count": 424,
      "outputs": []
    },
    {
      "cell_type": "markdown",
      "source": [
        "# Tratamento de dados"
      ],
      "metadata": {
        "id": "PKDGji7Wg8cG"
      }
    },
    {
      "cell_type": "code",
      "source": [
        "# Analisando o dataframe\n",
        "df_produtos.info()"
      ],
      "metadata": {
        "colab": {
          "base_uri": "https://localhost:8080/"
        },
        "id": "QjfwyfvGVqJQ",
        "outputId": "b418a6f9-1e95-4692-bff9-943abdaf4ebe"
      },
      "execution_count": 425,
      "outputs": [
        {
          "output_type": "stream",
          "name": "stdout",
          "text": [
            "<class 'pandas.core.frame.DataFrame'>\n",
            "RangeIndex: 30 entries, 0 to 29\n",
            "Data columns (total 5 columns):\n",
            " #   Column       Non-Null Count  Dtype  \n",
            "---  ------       --------------  -----  \n",
            " 0   idProduto    30 non-null     Int64  \n",
            " 1   nomeProduto  30 non-null     object \n",
            " 2   categoria    30 non-null     object \n",
            " 3   precoCusto   30 non-null     float64\n",
            " 4   precoVenda   30 non-null     float64\n",
            "dtypes: Int64(1), float64(2), object(2)\n",
            "memory usage: 1.3+ KB\n"
          ]
        }
      ]
    },
    {
      "cell_type": "code",
      "source": [
        "# Tratando erros de dados\n",
        "df_produtos = df_produtos.fillna('')\n",
        "df_produtos = df_produtos.drop_duplicates()\n",
        "df_produtos = df_produtos.dropna(how='all')"
      ],
      "metadata": {
        "id": "-YuVb9W0ookJ"
      },
      "execution_count": 426,
      "outputs": []
    },
    {
      "cell_type": "code",
      "source": [
        "# Alterando as colunas de object para catgeory para diminuição do tamanho do dataframe\n",
        "df_produtos.nomeProduto = df_produtos.nomeProduto.astype('category')\n",
        "df_produtos.categoria = df_produtos.nomeProduto.astype('category')\n",
        "df_produtos.idProduto = df_produtos.idProduto.astype('object')"
      ],
      "metadata": {
        "id": "DTIx2vE_VqFp"
      },
      "execution_count": 427,
      "outputs": []
    },
    {
      "cell_type": "code",
      "source": [
        "# Criando a coluna de lucro\n",
        "df_produtos['lucro'] = df_produtos.apply(lambda x: x['precoVenda'] - x['precoCusto'], axis=1)\n",
        "df_produtos['att_em'] = data_hora"
      ],
      "metadata": {
        "id": "U_-XFtsQt9Yu"
      },
      "execution_count": 428,
      "outputs": []
    },
    {
      "cell_type": "code",
      "source": [
        "# Realizando o mesmo processo nos outros dataframes\n",
        "df_vendas.info()"
      ],
      "metadata": {
        "colab": {
          "base_uri": "https://localhost:8080/"
        },
        "id": "fhxpuwQfhZDR",
        "outputId": "70e4f503-5655-482f-823c-6704d6ac8ee4"
      },
      "execution_count": 429,
      "outputs": [
        {
          "output_type": "stream",
          "name": "stdout",
          "text": [
            "<class 'pandas.core.frame.DataFrame'>\n",
            "RangeIndex: 10000 entries, 0 to 9999\n",
            "Data columns (total 6 columns):\n",
            " #   Column      Non-Null Count  Dtype \n",
            "---  ------      --------------  ----- \n",
            " 0   idVenda     10000 non-null  object\n",
            " 1   idCliente   10000 non-null  object\n",
            " 2   idProduto   10000 non-null  object\n",
            " 3   dataVenda   10000 non-null  object\n",
            " 4   valorVenda  10000 non-null  object\n",
            " 5   regiao      10000 non-null  object\n",
            "dtypes: object(6)\n",
            "memory usage: 468.9+ KB\n"
          ]
        }
      ]
    },
    {
      "cell_type": "code",
      "source": [
        "# Tratando erros de dados\n",
        "df_vendas = df_vendas.dropna(how='all')\n",
        "df_vendas = df_vendas.fillna('')\n",
        "df_vendas = df_vendas.drop_duplicates()"
      ],
      "metadata": {
        "id": "y9Y-mah0qtxh"
      },
      "execution_count": 430,
      "outputs": []
    },
    {
      "cell_type": "code",
      "source": [
        "df_vendas.regiao = df_vendas.regiao.astype('category')\n",
        "df_vendas[\"valorVenda\"] = pd.to_numeric(df_vendas[\"valorVenda\"].str.replace(\",\", \".\"), errors=\"coerce\")\n",
        "df_vendas['dataVenda'] = pd.to_datetime(df_vendas['dataVenda'], format='%d/%m/%Y')\n",
        "\n",
        "df_vendas['att_em'] = data_hora\n"
      ],
      "metadata": {
        "collapsed": true,
        "id": "0gQ8RsduhvzM"
      },
      "execution_count": 431,
      "outputs": []
    },
    {
      "cell_type": "code",
      "source": [
        "# Tratando erros de dados\n",
        "df_clientes = df_clientes.dropna(how='all')\n",
        "df_clientes = df_clientes.fillna('')\n",
        "df_clientes = df_clientes.drop_duplicates()"
      ],
      "metadata": {
        "id": "ZA9O0lwYq1Yt"
      },
      "execution_count": 432,
      "outputs": []
    },
    {
      "cell_type": "code",
      "source": [
        "df_clientes.info()"
      ],
      "metadata": {
        "id": "qE7Q1nqI_f_3",
        "colab": {
          "base_uri": "https://localhost:8080/"
        },
        "outputId": "b48e3d07-873c-4c70-b45e-7536ca1454e6"
      },
      "execution_count": 433,
      "outputs": [
        {
          "output_type": "stream",
          "name": "stdout",
          "text": [
            "<class 'pandas.core.frame.DataFrame'>\n",
            "RangeIndex: 20 entries, 0 to 19\n",
            "Data columns (total 5 columns):\n",
            " #   Column        Non-Null Count  Dtype \n",
            "---  ------        --------------  ----- \n",
            " 0   idCliente     20 non-null     int64 \n",
            " 1   nomeCliente   20 non-null     object\n",
            " 2   emailCliente  20 non-null     object\n",
            " 3   cidade        20 non-null     object\n",
            " 4   estado        20 non-null     object\n",
            "dtypes: int64(1), object(4)\n",
            "memory usage: 928.0+ bytes\n"
          ]
        }
      ]
    },
    {
      "cell_type": "code",
      "source": [
        "df_clientes.cidade =  df_clientes.cidade.astype('category')\n",
        "df_clientes.estado =  df_clientes.estado.astype('category')\n",
        "df_clientes.idCliente =  df_clientes.idCliente.astype('object')\n",
        "df_clientes['att_em'] = data_hora\n"
      ],
      "metadata": {
        "id": "mMi6yv2ahvt_"
      },
      "execution_count": 434,
      "outputs": []
    },
    {
      "cell_type": "markdown",
      "source": [
        "### Carregamento dos dados tratados"
      ],
      "metadata": {
        "id": "CXXUzE5mlkgv"
      }
    },
    {
      "cell_type": "code",
      "source": [
        "# Tabela Vendas Big query\n",
        "\n",
        "to_gbq(\n",
        "    dataframe=df_vendas,\n",
        "    destination_table=\"case_tools.vendas\",\n",
        "    project_id=\"cloud-engineer-444301-r6\",\n",
        "    if_exists=\"replace\",\n",
        "    credentials=credencial,\n",
        ")\n"
      ],
      "metadata": {
        "colab": {
          "base_uri": "https://localhost:8080/"
        },
        "id": "P7ySnikxhvrg",
        "outputId": "35bfff07-c6b5-4f69-84f4-d6fb484826b3"
      },
      "execution_count": 435,
      "outputs": [
        {
          "output_type": "stream",
          "name": "stderr",
          "text": [
            "100%|██████████| 1/1 [00:00<00:00, 759.15it/s]\n"
          ]
        }
      ]
    },
    {
      "cell_type": "code",
      "source": [
        "# Tabela Produtos - Big Query\n",
        "\n",
        "to_gbq(\n",
        "    dataframe=df_produtos,\n",
        "    destination_table=\"case_tools.produtos_tratada\",\n",
        "    project_id=\"cloud-engineer-444301-r6\",\n",
        "    if_exists=\"replace\",\n",
        "    credentials=credencial,  )\n"
      ],
      "metadata": {
        "colab": {
          "base_uri": "https://localhost:8080/"
        },
        "id": "XoRADrA8hvo8",
        "outputId": "b22e3aa4-8e04-4680-a811-68d3dc873bcd"
      },
      "execution_count": 436,
      "outputs": [
        {
          "output_type": "stream",
          "name": "stderr",
          "text": [
            "100%|██████████| 1/1 [00:00<00:00, 626.48it/s]\n"
          ]
        }
      ]
    },
    {
      "cell_type": "code",
      "source": [
        "# Tabela Clientes - Big Query\n",
        "\n",
        "\n",
        "to_gbq(\n",
        "    dataframe=df_clientes,\n",
        "    destination_table=\"case_tools.clientes\",\n",
        "    project_id=\"cloud-engineer-444301-r6\",\n",
        "    if_exists=\"replace\",\n",
        "    credentials=credencial,\n",
        ")\n"
      ],
      "metadata": {
        "colab": {
          "base_uri": "https://localhost:8080/"
        },
        "id": "1LFVouv5hvmm",
        "outputId": "c266d709-1bc0-478f-e16e-d5458b943553"
      },
      "execution_count": 437,
      "outputs": [
        {
          "output_type": "stream",
          "name": "stderr",
          "text": [
            "100%|██████████| 1/1 [00:00<00:00, 1204.57it/s]\n"
          ]
        }
      ]
    },
    {
      "cell_type": "markdown",
      "source": [
        "### Cruzando dados"
      ],
      "metadata": {
        "id": "xEqY7R6guzAL"
      }
    },
    {
      "cell_type": "code",
      "source": [
        "# Padronizando colunas do join (merge)\n",
        "df_vendas['idCliente'] = df_vendas['idCliente'].astype('int64')\n",
        "df_vendas['idProduto'] = df_vendas['idProduto'].astype('int64')\n",
        "df_clientes['idCliente'] = df_clientes['idCliente'].astype('int64')\n",
        "df_produtos['idProduto'] = df_produtos['idProduto'].astype('int64')"
      ],
      "metadata": {
        "id": "_M-LFpwaNIkG"
      },
      "execution_count": 438,
      "outputs": []
    },
    {
      "cell_type": "code",
      "source": [
        "# Realizando cruzamento\n",
        "df =  pd.merge(df_vendas, df_clientes, on='idCliente', how='left')\n",
        "df = pd.merge(df, df_produtos, on='idProduto', how='left')\n",
        "df.drop(columns=['att_em_x', 'att_em_y'], inplace=True)"
      ],
      "metadata": {
        "id": "55Wn9c0t8nyT"
      },
      "execution_count": 439,
      "outputs": []
    },
    {
      "cell_type": "markdown",
      "source": [
        "### Carregando os dados após o join"
      ],
      "metadata": {
        "id": "Qj0dv--ei8kh"
      }
    },
    {
      "cell_type": "code",
      "source": [
        "# Tabela Consolidada - Big Clientes\n",
        "\n",
        "to_gbq(\n",
        "    dataframe=df,\n",
        "    destination_table=\"case_tools.vendas_consolidadas\",\n",
        "    project_id=\"cloud-engineer-444301-r6\",\n",
        "    if_exists=\"replace\",\n",
        "    credentials=credencial,\n",
        ")\n"
      ],
      "metadata": {
        "id": "odN0soJyhvhq",
        "colab": {
          "base_uri": "https://localhost:8080/"
        },
        "outputId": "344e48ee-ed60-4d62-bf69-063cd1e2e16e"
      },
      "execution_count": 440,
      "outputs": [
        {
          "output_type": "stream",
          "name": "stderr",
          "text": [
            "100%|██████████| 1/1 [00:00<00:00, 7928.74it/s]\n"
          ]
        }
      ]
    },
    {
      "cell_type": "markdown",
      "source": [
        "# ETL  Finalizado"
      ],
      "metadata": {
        "id": "LQM8iZ92NvcU"
      }
    }
  ]
}