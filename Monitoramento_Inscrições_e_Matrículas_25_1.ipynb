{
  "cells": [
    {
      "cell_type": "markdown",
      "metadata": {
        "id": "view-in-github",
        "colab_type": "text"
      },
      "source": [
        "<a href=\"https://colab.research.google.com/github/Matheus-Fuzati-de-Carvalho/Matheus-Fuzati-de-Carvalho/blob/main/Monitoramento_Inscri%C3%A7%C3%B5es_e_Matr%C3%ADculas_25_1.ipynb\" target=\"_parent\"><img src=\"https://colab.research.google.com/assets/colab-badge.svg\" alt=\"Open In Colab\"/></a>"
      ]
    },
    {
      "cell_type": "code",
      "execution_count": 1,
      "metadata": {
        "id": "ZDlclDiT_Fml"
      },
      "outputs": [],
      "source": [
        "# Importando bibliotecas\n",
        "from google.cloud import bigquery\n",
        "import pandas as pd\n",
        "from google.colab import auth\n",
        "auth.authenticate_user()\n",
        "import gspread\n",
        "from google.auth import default\n",
        "creds, _ = default()\n",
        "from gspread_dataframe import get_as_dataframe, set_with_dataframe\n",
        "gc = gspread.authorize(creds)\n",
        "\n",
        "# Trazendo a data atual para a váriavel 'Atualizado'\n",
        "from datetime import datetime, timedelta\n",
        "import pytz\n",
        "atualizado = pytz.timezone('America/Sao_Paulo')\n",
        "atualizado = datetime.now(atualizado).strftime(\"%d/%m/%Y, %H:%M:%S\")\n",
        "\n",
        "hoje =  datetime.now().strftime(\"%Y-%m-%d\")\n",
        "\n",
        "# Desativando avisos sobre atribuições encadeadas\n",
        "pd.options.mode.chained_assignment = None\n"
      ]
    },
    {
      "cell_type": "code",
      "execution_count": 157,
      "metadata": {
        "id": "Qa5v3p_CAZzz"
      },
      "outputs": [],
      "source": [
        "# definindo função para abrir bases\n",
        "def abrir_plan(arq, plan):\n",
        "  planilha = gc.open(arq)\n",
        "  planilha = planilha.get_worksheet(plan).get_all_values()\n",
        "  planilha = pd.DataFrame(planilha)\n",
        "  planilha.columns = planilha.iloc[0]\n",
        "  planilha = planilha[1:].reset_index(drop=True)\n",
        "  return planilha\n",
        "\n",
        "# Criando função para atualizar a planilha\n",
        "def att_plan(arquivo, planilha, dataframe):\n",
        "  arq = gc.open(arquivo)\n",
        "  plan = arq.worksheet(planilha)\n",
        "  set_with_dataframe(plan, dataframe)"
      ]
    },
    {
      "cell_type": "code",
      "execution_count": 158,
      "metadata": {
        "id": "FN2nBAiLsdvm"
      },
      "outputs": [],
      "source": [
        "# Abrindo base Rubeus referente a 20251\n",
        "base25_script = abrir_plan('base_rubeus_script', 0)"
      ]
    },
    {
      "cell_type": "code",
      "source": [
        "# base25_script.info()"
      ],
      "metadata": {
        "id": "ObP--zScbwTF"
      },
      "execution_count": 159,
      "outputs": []
    },
    {
      "cell_type": "code",
      "source": [
        "# base25_script[(base25_script['etapaNome'].isin(['Matriculado', 'Matrícula Cancelada'])) & (base25_script['processoNome'] == 'Inscrições e Matrículas')]['pessoaNome'].value_counts()"
      ],
      "metadata": {
        "id": "4QFnzLuo1BXQ"
      },
      "execution_count": 160,
      "outputs": []
    },
    {
      "cell_type": "code",
      "execution_count": 161,
      "metadata": {
        "collapsed": true,
        "id": "P3KEoDVTAbvy"
      },
      "outputs": [],
      "source": [
        "# Abrindo base de inscritos de 241\n",
        "base24 = abrir_plan('base241', 0)\n",
        "\n",
        "# Cria uma cópia de 'base25_script' para evitar alterar o DataFrame original\n",
        "base25 = base25_script.copy()\n",
        "\n",
        "# Abrir planilha de auxilio a posições\n",
        "base_aux = abrir_plan('base241', 1)\n",
        "\n",
        "# Abrir planilha de emails TRV\n",
        "base_trv = abrir_plan('RESERVA DE MATRÍCULA 2025.1', 0)"
      ]
    },
    {
      "cell_type": "code",
      "execution_count": 162,
      "metadata": {
        "id": "ZwWOKM_dk176",
        "collapsed": true
      },
      "outputs": [],
      "source": [
        "# base25.info()"
      ]
    },
    {
      "cell_type": "code",
      "execution_count": 163,
      "metadata": {
        "id": "VpXlQs0BOqT3"
      },
      "outputs": [],
      "source": [
        "# Cria uma função para verificar se uma célula contém a palavra \"teste\"\n",
        "def contem_teste(coluna):\n",
        "    return coluna.str.contains('teste', case=False, na=False)\n",
        "\n",
        "# Aplica as funções a todas as colunas e cria uma máscara booleana\n",
        "mascara_teste = base25.apply(contem_teste).any(axis=1)\n",
        "\n",
        "# Exclui as linhas que contêm \"teste\"\n",
        "base25 = base25[~(mascara_teste)]"
      ]
    },
    {
      "cell_type": "code",
      "source": [],
      "metadata": {
        "id": "XSVMtondOzDS"
      },
      "execution_count": 163,
      "outputs": []
    },
    {
      "cell_type": "code",
      "source": [
        "base25['temperatura'] = base25['temperatura'].astype('object')\n",
        "base25['temperatura'] = base25['temperatura'].str.replace('[\"', '')\n",
        "base25['temperatura'] = base25['temperatura'].str.replace('\"]', '')"
      ],
      "metadata": {
        "id": "7Uc3UZvGOgnk"
      },
      "execution_count": 164,
      "outputs": []
    },
    {
      "cell_type": "code",
      "execution_count": 165,
      "metadata": {
        "colab": {
          "base_uri": "https://localhost:8080/"
        },
        "id": "0P2w-sIxnMOm",
        "outputId": "1d23ca08-8e91-4aa3-dce6-d9c78d3a7de0"
      },
      "outputs": [
        {
          "output_type": "stream",
          "name": "stdout",
          "text": [
            "781\n",
            "63\n",
            "3481\n"
          ]
        }
      ],
      "source": [
        "print(len(base25[(base25['tags'].str.contains('#preinscricao-VestibularDesafio-15feteps', na=False)) &  # Verifica se a string está em 'tags'\n",
        "    (base25['anoDeEstudoETEC'].isin(['3º Ano', 'Concluiu o ensino médio'])) &  # Verifica o ano de estudo\n",
        "    (base25['processoNome'] == 'Comunicação e Marketing')]))\n",
        "\n",
        "print(len(base25[(base25['tags'].str.contains('#preinscricao-VestibularDesafio2025'))\n",
        "                            & (base25['processoNome'] == 'Comunicação e Marketing')]))\n",
        "\n",
        "\n",
        "print(len(base25[base25['processoNome'] == 'Inscrições e Matrículas']))"
      ]
    },
    {
      "cell_type": "code",
      "source": [],
      "metadata": {
        "collapsed": true,
        "id": "bcjT89gFFZX9"
      },
      "execution_count": 165,
      "outputs": []
    },
    {
      "cell_type": "code",
      "execution_count": 166,
      "metadata": {
        "id": "DuHuSf537SBe"
      },
      "outputs": [],
      "source": [
        "# Filtra o DataFrame base25 para manter apenas os registros relacionados aos processos 'Inscrições e Matrículas' e 'Comunicação e Marketing'\n",
        "base25 = base25[base25['processoNome'].isin(['Inscrições e Matrículas', 'Comunicação e Marketing'])]\n",
        "\n",
        "# Cria uma nova base contendo apenas os registros com a tag '#preinscricao-VestibularDesafio-15feteps',\n",
        "# que correspondem a alunos do 3º ano ou que já concluíram o ensino médio, e que estão no processo 'Comunicação e Marketing'\n",
        "basePreInscricaoVestibularFeteps = (base25[(base25['tags'].str.contains('#preinscricao-VestibularDesafio-15feteps', na=False))\n",
        "                                 & (base25['anoDeEstudoETEC'].isin(['3º Ano', 'Concluiu o ensino médio']))\n",
        "                                 & (base25['processoNome'] == 'Comunicação e Marketing')])\n",
        "\n",
        "# Define novas colunas para essa base: 'baseDeOrigem', 'etapaNome' e 'processoSeletivoNome'\n",
        "# Essas colunas indicam que esses registros são pré-inscritos no Vestibular FETEPS, na etapa de pré-inscrição e sem processo definido\n",
        "basePreInscricaoVestibularFeteps['baseDeOrigem'] = 'PRÉ-INSCRITO VESTIBULAR - FETEPS'\n",
        "basePreInscricaoVestibularFeteps['etapaNome'] = 'Pré-Inscrito'\n",
        "basePreInscricaoVestibularFeteps['processoSeletivoNome'] = 'Sem processo definido'\n",
        "\n",
        "# Cria uma nova base com registros que contêm a tag '#preinscricao-VestibularDesafio2025' e pertencem ao processo 'Comunicação e Marketing'\n",
        "basePreInscritoVestibular = (base25[(base25['tags'].str.contains('#preinscricao-VestibularDesafio2025'))\n",
        "                            & (base25['processoNome'] == 'Comunicação e Marketing')])\n",
        "\n",
        "# Define novas colunas para essa base: 'baseDeOrigem', 'etapaNome' e 'processoSeletivoNome'\n",
        "# Indicando que esses registros são pré-inscritos no Vestibular de 2025, na etapa de pré-inscrição e fazem parte do processo seletivo '25.1 - Desafio ESEG'\n",
        "basePreInscritoVestibular['baseDeOrigem'] = 'PRÉ-INSCRITO VESTIBULAR - SITE'\n",
        "basePreInscritoVestibular['etapaNome'] = 'Pré-Inscrito'\n",
        "basePreInscritoVestibular['processoSeletivoNome'] = '25.1 - Desafio ESEG'\n"
      ]
    },
    {
      "cell_type": "code",
      "source": [
        "base25[base25['etapaNome'].isin(['Matriculado', 'Matrícula Cancelada'])]['pessoaNome'].value_counts().sort_values( ascending=True).sum()"
      ],
      "metadata": {
        "colab": {
          "base_uri": "https://localhost:8080/"
        },
        "id": "DSrLMyxMsm77",
        "outputId": "d64a01f9-b8ad-4f66-d6d5-02854db9df6b"
      },
      "execution_count": 167,
      "outputs": [
        {
          "output_type": "execute_result",
          "data": {
            "text/plain": [
              "102"
            ]
          },
          "metadata": {},
          "execution_count": 167
        }
      ]
    },
    {
      "cell_type": "code",
      "execution_count": 168,
      "metadata": {
        "id": "cIqLhIOA5sGb"
      },
      "outputs": [],
      "source": [
        "# Abre a planilha 'base241' na segunda aba e atribui ao DataFrame fonteInscricao\n",
        "fonteInscricao = abrir_plan('base241', 2)\n",
        "\n",
        "# Ordena o DataFrame 'fonteInscricao' priorizando os registros onde 'baseDeOrigem' é 'Pré Inscritos FETEPS'\n",
        "# Dessa forma, ao remover duplicados, o registro com 'Pré Inscritos FETEPS' será mantido, se houver duplicatas no campo 'email'\n",
        "fonteInscricao = fonteInscricao.sort_values(by=['email', 'baseDeOrigem'], key=lambda col: col == 'Pré Inscritos FETEPS', ascending=False)\n",
        "\n",
        "# Remove registros duplicados com base na coluna 'email', mantendo o primeiro (que é priorizado para ser da origem 'Pré Inscritos FETEPS')\n",
        "fonteInscricao = fonteInscricao.drop_duplicates(subset='email', keep='first')\n",
        "\n",
        "# Filtra o DataFrame 'base25' para incluir apenas registros do processo 'Inscrições e Matrículas'\n",
        "base25 = base25[base25['processoNome'] == 'Inscrições e Matrículas']\n",
        "\n",
        "# Realiza o merge de 'base25' com 'fonteInscricao' na coluna 'email', fazendo uma junção à esquerda ('left')\n",
        "# Isso adiciona as informações de 'fonteInscricao' aos registros de 'base25' com base no campo 'email'\n",
        "base25 = pd.merge(base25, fonteInscricao, on='email', how='left')\n",
        "\n",
        "# Para os registros em que a coluna 'baseDeOrigem' está vazia (NaN), atribui o valor 'SITE' para indicar a origem\n",
        "base25.loc[base25['baseDeOrigem'].isna(), 'baseDeOrigem'] = 'SITE'\n",
        "\n",
        "# Concatena três DataFrames: 'basePreInscricaoVestibularFeteps', 'basePreInscritoVestibular' e 'base25'\n",
        "# Isso combina as diferentes fontes de dados em um único DataFrame\n",
        "base25 = pd.concat([basePreInscricaoVestibularFeteps, basePreInscritoVestibular, base25])\n"
      ]
    },
    {
      "cell_type": "code",
      "execution_count": 169,
      "metadata": {
        "id": "tVKTCoD9y9s3"
      },
      "outputs": [],
      "source": [
        "# Substitui os valores 'NULL' ou valores nulos na coluna 'processoSeletivoNome' com os valores correspondentes da coluna 'formaIngresso'\n",
        "base25.loc[base25['processoSeletivoNome'].isin(['NULL', 'Null', None, '']), 'processoSeletivoNome'] = base25.loc[base25['processoSeletivoNome'].isin(['NULL', 'Null', None, '']), 'formaingresso']\n"
      ]
    },
    {
      "cell_type": "code",
      "execution_count": 170,
      "metadata": {
        "id": "AkCG2f6jfARS"
      },
      "outputs": [],
      "source": [
        "#altere para Desafio Eseg as linhas na coluna processoSeletivoNome onde conterem a esafio em alguma parte do texto\n",
        "base25.loc[base25['processoSeletivoNome'].str.contains('esafio', case=False), 'processoSeletivoNome'] = '25.1 - Desafio Eseg'\n",
        "\n",
        "base25.loc[base25['processoSeletivoNome'].str.contains('transf', case=False), 'processoSeletivoNome'] = '25.1 - Transferência'\n",
        "\n",
        "# Altera o processo seletivo PARA O FORMATO DE TITULO\n",
        "base25['processoSeletivoNome'] = base25['processoSeletivoNome'].str.title()\n"
      ]
    },
    {
      "cell_type": "code",
      "execution_count": 171,
      "metadata": {
        "id": "w7SelQIJLJRE"
      },
      "outputs": [],
      "source": [
        "# prompt: excluir os 8 primeiros caractere da coluna processoSeletivoNome quando o valor for diferente de sem processo definido\n",
        "\n",
        "base25.loc[base25['processoSeletivoNome'] != 'Sem Processo Definido', 'processoSeletivoNome'] = base25.loc[base25['processoSeletivoNome'] != 'Sem Processo Definido', 'processoSeletivoNome'].str[7:]\n",
        "\n",
        "# prompt: onde o processoSeletivoNome contem feteps, alterepara redação feteps\n",
        "\n",
        "base25.loc[base25['processoSeletivoNome'].str.contains('FETEPS', case=False), 'processoSeletivoNome'] = 'Redação FETEPS'\n",
        "\n",
        "base25.loc[base25['processoSeletivoNome'] == '', 'processoSeletivoNome'] = 'Sem Processo Definido'"
      ]
    },
    {
      "cell_type": "code",
      "execution_count": 172,
      "metadata": {
        "id": "c3ji53EUPvvk"
      },
      "outputs": [],
      "source": [
        "# Resetando index\n",
        "base25 = base25.reset_index(drop=True)\n",
        "\n",
        "# criando verificação se é um matriculado\n",
        "base25['Matriculado'] = ''\n",
        "base25.loc[base25['etapaNome'].isin(['Matriculado', 'Matrícula Cancelada', 'Desistente']), 'Matriculado'] = 'Matriculado'\n",
        "\n",
        "# Atribui o valor da coluna 'ultimaAlteracaoEtapa' para 'dataMatricula' na base25 onde a coluna 'Matriculado' é igual a 'Matriculado'\n",
        "base25.loc[base25['Matriculado'] == 'Matriculado', 'dataMatricula'] = base25['ultimaAlteracaoEtapa']\n",
        "\n",
        "# Converter a coluna 'dataMatricula' para datetime e, em seguida, extrair apenas a data\n",
        "base25['dataMatricula'] = pd.to_datetime(base25['dataMatricula'], errors='coerce').dt.date\n",
        "\n",
        "# Converter a coluna 'dataMatricula' para datetime\n",
        "base24['dataMatricula'] = pd.to_datetime(base24['dataMatricula'], dayfirst=True).dt.date"
      ]
    },
    {
      "cell_type": "code",
      "execution_count": 173,
      "metadata": {
        "id": "Uc4paPIJhujO"
      },
      "outputs": [],
      "source": [
        "# Trocando NULL por vazio\n",
        "base25 = base25.replace('NULL', '')\n",
        "base25 = base25.replace('Null', '')"
      ]
    },
    {
      "cell_type": "code",
      "execution_count": 174,
      "metadata": {
        "id": "OCpC5uv0fAMm"
      },
      "outputs": [],
      "source": [
        "# Função para separar a última palavra e o restante\n",
        "def separar_ultima_palavra(texto):\n",
        "    partes = texto.rsplit(' ', 1)\n",
        "    if len(partes) == 2:\n",
        "        restante, ultima_palavra = partes\n",
        "    else:\n",
        "        restante = texto\n",
        "        ultima_palavra = ''\n",
        "    return pd.Series([restante, ultima_palavra])\n",
        "\n",
        "# Aplicar a função e criar novas colunas\n",
        "base25[['cursoNome', 'turnoNome']] = base25['ofertaCursoNome'].apply(separar_ultima_palavra)\n",
        "\n",
        "# Extrair parte da string a partir do 7º caractere\n",
        "base25['cursoNome'] = base25['cursoNome'].str.slice(start=7)"
      ]
    },
    {
      "cell_type": "code",
      "execution_count": 175,
      "metadata": {
        "id": "p3e4YOrTW-E6"
      },
      "outputs": [],
      "source": [
        "# Alterando tipo da coluna\n",
        "base25['momento'] = pd.to_datetime(base25['momento'])\n",
        "\n",
        "# Criando variável com data da prova do Desafio ESEG\n",
        "p_01 = pd.to_datetime('2024-09-29')\n",
        "p_02 = pd.to_datetime('2024-11-24')\n",
        "p_03 = pd.to_datetime('2024-12-08')\n",
        "p_04 = pd.to_datetime('2025-01-15')\n",
        "\n",
        "# Criando coluna de data da prova e aplicando a função para trazer a data da prova para qual o candidato de inscreveu\n",
        "base25['dataProva'] = base25.apply(\n",
        "                                  lambda row: (\n",
        "                                      p_01 if (row['momento'] < p_01 and 'Desafio' in row['processoSeletivoNome']) else\n",
        "                                      p_02 if (row['momento'] < p_02 and 'Desafio' in row['processoSeletivoNome']) else\n",
        "                                      p_03 if (row['momento'] < p_03 and 'Desafio' in row['processoSeletivoNome']) else\n",
        "                                      p_04 if (row['momento'] < p_04 and 'Desafio' in row['processoSeletivoNome']) else ''\n",
        "                                  ), axis=1\n",
        ")\n",
        "\n",
        "# Alterando tipo da coluna\n",
        "base25['dataProva'] = pd.to_datetime(base25['dataProva'], format='%Y-%m-%d')\n"
      ]
    },
    {
      "cell_type": "code",
      "source": [],
      "metadata": {
        "id": "XRudWwd0f0l-"
      },
      "execution_count": 175,
      "outputs": []
    },
    {
      "cell_type": "code",
      "execution_count": 176,
      "metadata": {
        "id": "AAPdMDU2O16M"
      },
      "outputs": [],
      "source": [
        "base25['data'] = base25['momento'].dt.date\n",
        "base24['data'] = base24['momento']\n",
        "\n",
        "# Garantindo que todas as colunas de data estejam no formato datetime com o formato correto\n",
        "base25['data'] = pd.to_datetime(base25['data'], format='%d/%m/%Y', dayfirst=True)\n",
        "base24['data'] = pd.to_datetime(base24['data'], format='%d/%m/%Y', dayfirst=True)\n",
        "base_aux['data24'] = pd.to_datetime(base_aux['data24'], format='%d/%m/%Y', dayfirst=True)\n",
        "base_aux['data25'] = pd.to_datetime(base_aux['data25'], format='%d/%m/%Y', dayfirst=True)"
      ]
    },
    {
      "cell_type": "code",
      "execution_count": 177,
      "metadata": {
        "id": "rn1RH-_VPFV0"
      },
      "outputs": [],
      "source": [
        "\n",
        "# Trazendo a coluna de posição nas bases para comparativo\n",
        "base25 = pd.merge(base25, base_aux[['data25','pos25']], left_on='data', right_on='data25', how='left')\n",
        "base24 = pd.merge(base24, base_aux[['data24','pos24']], left_on='data', right_on='data24', how='left')\n",
        "\n",
        "# Excluindo as colunas extras após o merge, se necessário\n",
        "base25 = base25.rename(columns={'data25': 'dataInscricao25'})\n",
        "base24 = base24.rename(columns={'data24': 'dataInscricao24'})\n",
        "\n",
        "# Alterando nomes das colunas para posicao\n",
        "base25 = base25.rename(columns={'pos25': 'posicao'})\n",
        "base24 = base24.rename(columns={'pos24': 'posicao'})\n"
      ]
    },
    {
      "cell_type": "code",
      "execution_count": 178,
      "metadata": {
        "id": "EE9QmDXGPbMF"
      },
      "outputs": [],
      "source": [
        "# Criando coluna de posicaoHoje e dataHoje\n",
        "base25['dataHoje'] = hoje\n",
        "base24['dataHoje'] = hoje\n",
        "\n",
        "base25['dataHoje'] = pd.to_datetime(base25['dataHoje'], format='%Y-%m-%d')\n",
        "base24['dataHoje'] = pd.to_datetime(base24['dataHoje'], format='%Y-%m-%d')\n",
        "\n",
        "base25 = pd.merge(base25, base_aux[['data25','pos25']], left_on='dataHoje', right_on='data25', how='left')\n",
        "base24 = pd.merge(base24, base_aux[['data25','pos25']], left_on='dataHoje', right_on='data25', how='left')\n",
        "\n",
        "# Alterando nomes das colunas para posicao\n",
        "base25 = base25.rename(columns={'pos25': 'posicaoHoje'})\n",
        "base24 = base24.rename(columns={'pos25': 'posicaoHoje'})\n",
        "\n",
        "# Excluindo as colunas extras após o merge, se necessário\n",
        "base25 = base25.drop(columns=['data25'])\n",
        "base24 = base24.drop(columns=['data25'])"
      ]
    },
    {
      "cell_type": "code",
      "execution_count": 179,
      "metadata": {
        "id": "22D3fT8nPk_a"
      },
      "outputs": [],
      "source": [
        "#Criando coluna de posição da matricula\n",
        "base25['dataMatricula'] = pd.to_datetime(base25['dataMatricula'], format='%Y-%m-%d')\n",
        "base24['dataMatricula'] = pd.to_datetime(base24['dataMatricula'], format='%Y-%m-%d')\n",
        "\n",
        "base25 = pd.merge(base25, base_aux[['data25','pos25']], left_on='dataMatricula', right_on='data25', how='left')\n",
        "base24 = pd.merge(base24, base_aux[['data24','pos24']], left_on='dataMatricula', right_on='data24', how='left')\n",
        "\n",
        "# Alterando nomes das colunas para posicao\n",
        "base25 = base25.rename(columns={'pos25': 'posicaoMatricula'})\n",
        "base24 = base24.rename(columns={'pos24': 'posicaoMatricula'})\n",
        "\n",
        "# Alterando nomes das colunas\n",
        "base25 = base25.rename(columns={'data25': 'dataMatricula25'})\n",
        "base24 = base24.rename(columns={'data24': 'dataMatricula24'})"
      ]
    },
    {
      "cell_type": "code",
      "execution_count": 180,
      "metadata": {
        "collapsed": true,
        "id": "sSLoeDteW110"
      },
      "outputs": [],
      "source": [
        "# Definindo a posição final do intake (202 é o valor alvo)\n",
        "finalIntake = 202\n",
        "\n",
        "# Garantindo que a coluna 'posicaoHoje' seja do tipo numérico\n",
        "base25['posicaoHoje'] = pd.to_numeric(base25['posicaoHoje'], errors='coerce')\n",
        "\n",
        "# Capturando o valor máximo da coluna 'posicaoHoje', que representa a posição atual\n",
        "posHoje = base25['posicaoHoje'].max()\n",
        "\n",
        "# Calculando a quantidade de dias restantes para o término do intake e criando a coluna 'diasParaTerminoIntake'\n",
        "# Subtrai a posição atual ('posicaoHoje') do valor final do intake\n",
        "base25['diasParaTerminoIntake'] = finalIntake - posHoje\n"
      ]
    },
    {
      "cell_type": "code",
      "execution_count": 181,
      "metadata": {
        "collapsed": true,
        "id": "LoUF9K5m9gQh"
      },
      "outputs": [],
      "source": [
        "# Cria um conjunto com os e-mails da base_trv para facilitar a busca\n",
        "emailsTRV = set(base_trv['E-mail'])\n",
        "\n",
        "# Cria uma nova coluna 'preenchimentoTRV' vazia\n",
        "base25['preenchimentoTRV'] = ''\n",
        "\n",
        "# Preenche a coluna 'preenchimentoTRV' com 'TRV preenchido' quando o e-mail está presente em emailsTRV\n",
        "base25.loc[base25['email'].isin(emailsTRV), 'preenchimentoTRV'] = 'TRV preenchido'\n"
      ]
    },
    {
      "cell_type": "code",
      "execution_count": 182,
      "metadata": {
        "id": "AaJDoKVTtEXD"
      },
      "outputs": [],
      "source": [
        "# Excluindo duplicados onde 'preenchimentoTRV' é 'TRV preenchido', mantendo a primeira ocorrência,\n",
        "# exceto se a coluna 'etapaNome' for igual a 'Matriculado'\n",
        "base25 = base25[~((base25['preenchimentoTRV'] == 'TRV preenchido') &\n",
        "                  (base25['etapaNome'] != 'Matriculado') &\n",
        "                  base25.duplicated(subset=['email'], keep='first'))]\n",
        "\n",
        "# Alterando para sem processo definidoonde for '' na coluna pricessoSeletivoNome\n",
        "base25.loc[base25['processoSeletivoNome'] == '', 'processoSeletivoNome'] = 'Sem Processo Definido'"
      ]
    },
    {
      "cell_type": "code",
      "execution_count": 183,
      "metadata": {
        "id": "A8w1Mtw4b3UW"
      },
      "outputs": [],
      "source": [
        "# Corrigindo nulos\n",
        "base25['processoSeletivoNome'] = base25['processoSeletivoNome'].fillna('Sem Processo Definido')\n",
        "base25.loc[base25['processoSeletivoNome'] == '', 'processoSeletivoNome'] = 'Sem Processo Definido'\n",
        "base25.loc[base25['processoNome'] == 'Inscrições e Matrículas', 'processoNome'] = 'Site'"
      ]
    },
    {
      "cell_type": "code",
      "execution_count": 184,
      "metadata": {
        "id": "ViIagoRE32AR"
      },
      "outputs": [],
      "source": [
        "# Define o valor da meta e cria a coluna 'Meta'\n",
        "metaMatriculas = 390\n",
        "base25['metaMatriculas'] = metaMatriculas\n",
        "\n",
        "# Calcula o percentual da meta atingido com base no número de matriculados\n",
        "base25['percentualDaMetaMatriculas'] = (base25[base25['Matriculado'] == 'Matriculado' ]['Matriculado'].count()) / (base25['metaMatriculas'].max())\n",
        "\n",
        "# criando coluna de horário da atividade com base na coluna momento\n",
        "base25['horario'] = base25['momento'].dt.strftime('%H:%M')"
      ]
    },
    {
      "cell_type": "code",
      "execution_count": 185,
      "metadata": {
        "id": "mkc2l3X4FUGU"
      },
      "outputs": [],
      "source": [
        "# Calcula a quantidade de matrículas faltantes para atingir a meta, subtraindo o número de matrículas já realizadas (com status 'Matriculado') da meta definida\n",
        "matriculasFaltaParaMeta = metaMatriculas - (base25[base25['Matriculado'] == 'Matriculado']['Matriculado'].count())\n",
        "\n",
        "# Calcula a quantidade de dias restantes até o término do intake, com base no valor máximo da coluna 'diasParaTerminoIntake'\n",
        "diasParaterminoIntake = base25['diasParaTerminoIntake'].max()\n",
        "\n",
        "# Calcula o número de matrículas necessárias por dia para atingir a meta dentro do prazo restante\n",
        "matriculasFaltaPorDia = matriculasFaltaParaMeta / diasParaterminoIntake\n",
        "\n",
        "# Adiciona as informações de matrículas faltantes para atingir a meta e matrículas necessárias por dia no DataFrame 'base25'\n",
        "base25['matriculasParaMeta'] = matriculasFaltaParaMeta\n",
        "base25['matriculasPorDia'] = matriculasFaltaPorDia\n",
        "\n",
        "# Calcula o número de inscritos que já avançaram da etapa 'Pré-Inscrito'\n",
        "inscritos = base25[base25['etapaNome'] != 'Pré-Inscrito']['etapaNome'].count()\n",
        "\n",
        "# Define a meta de inscrições e calcula a quantidade de inscrições faltantes para atingir essa meta\n",
        "metaInscricoes = 7500\n",
        "inscricoesFaltaParaMeta = metaInscricoes - inscritos\n",
        "\n",
        "# Adiciona as informações de inscrições faltantes para atingir a meta no DataFrame 'base25'\n",
        "base25['inscricoesParaMeta'] = inscricoesFaltaParaMeta\n",
        "\n",
        "# Calcula o número de inscrições necessárias por dia para atingir a meta de inscrições dentro do prazo restante\n",
        "inscricoesFaltaPorDia = inscricoesFaltaParaMeta / diasParaterminoIntake\n",
        "base25['inscricoesPorDia'] = inscricoesFaltaPorDia\n",
        "\n",
        "# Calcula o percentual da meta atingido com base no número de inscrições\n",
        "base25['percentualDaMetaInscricoes'] = (base25[base25['etapaNome'] != 'Pré-Inscrito']['etapaNome'].count()) / (metaInscricoes)\n"
      ]
    },
    {
      "cell_type": "code",
      "source": [
        "# base25['etapaNome'].value_counts()"
      ],
      "metadata": {
        "id": "mzRjydR0n37r"
      },
      "execution_count": 186,
      "outputs": []
    },
    {
      "cell_type": "code",
      "source": [
        "# base24['etapaNome'].value_counts()"
      ],
      "metadata": {
        "id": "J---bEWwn8qx"
      },
      "execution_count": 187,
      "outputs": []
    },
    {
      "cell_type": "code",
      "execution_count": 188,
      "metadata": {
        "id": "ex6DkOuiZNJS"
      },
      "outputs": [],
      "source": [
        "# Adicionadno intake nas bases\n",
        "base25_comp = base25.copy()\n",
        "base25_comp['Intake'] = '20251'\n",
        "base24['Intake'] = '20241'\n",
        "\n",
        "# Criando comparativo\n",
        "comparativo = pd.concat([base25_comp, base24])\n",
        "\n",
        "# Padronizando tipo da coluna\n",
        "comparativo['processoSeletivoNome'] = comparativo['processoSeletivoNome'].str.title()"
      ]
    },
    {
      "cell_type": "code",
      "source": [],
      "metadata": {
        "id": "a8yFOIO-GkVs"
      },
      "execution_count": 188,
      "outputs": []
    },
    {
      "cell_type": "code",
      "source": [
        "# Trazendo informaçõexs de campanhas tracking\n",
        "\n",
        "baseTracking = abrir_plan('campanha_tracking_rubeus_script', 0)\n",
        "\n",
        "baseTracking = baseTracking.replace('\"', '')\n",
        "\n",
        "# Replacing double quotes with empty strings in all columns of the DataFrame\n",
        "for col in baseTracking.columns:\n",
        "    if baseTracking[col].dtype == 'object':\n",
        "        baseTracking[col] = baseTracking[col].str.replace('\"', '')\n",
        "\n",
        "baseTracking = baseTracking[~baseTracking['utmMediumCampanha'].str.contains('javascript', na=False)]\n",
        "\n",
        "att_plan('campanha_tracking_rubeus_script', 'tratada', baseTracking)\n",
        "\n",
        "baseTracking = baseTracking.rename(columns={'pessoaNome': 'nomePessoa'})\n",
        "\n",
        "colunas = ['idDoContato',\n",
        "    'idRegistro',\n",
        "    # 'canalNome',\n",
        "    'nomePessoa',\n",
        "    'campanhaTracking',\n",
        "    'origemCampanha',\n",
        "    'tipoOrigemCampanha',\n",
        "    'urlOrigemCampanha',\n",
        "    'dispositivoCampanha',\n",
        "    'utmSourceCampanha',\n",
        "    'utmMediumCampanha',\n",
        "    'utmContentCampanha'\n",
        "]\n",
        "\n",
        "# Ordena pelo momentoInteracao em ordem decrescente\n",
        "baseTracking = baseTracking.sort_values(by='momentoInteracao', ascending=False)\n",
        "\n",
        "baseTracking = baseTracking.drop_duplicates(subset='nomePessoa', keep='first')\n",
        "\n",
        "baseInscritos = base25[base25['etapaNome'] != 'Pré-Inscrito']\n",
        "\n",
        "basePreInscritos = base25[base25['etapaNome'] == 'Pré-Inscrito']\n",
        "\n",
        "baseInscritos = pd.merge(baseInscritos, baseTracking[colunas], left_on='pessoaNome', right_on='nomePessoa', how='left')\n",
        "\n",
        "base25Origens = base25.copy()\n",
        "\n",
        "base25 = pd.concat([baseInscritos, basePreInscritos])\n",
        "\n",
        "\n",
        "# base25 = base25.drop(columns=['canalNome_y'])\n",
        "base25 = base25.drop(columns=['idRegistro_y'])\n",
        "base25 = base25.rename(columns={'canalNome_x': 'canalNome', 'idRegistro_x': 'idRegistro'})"
      ],
      "metadata": {
        "collapsed": true,
        "id": "Lk0pIzMCidRX"
      },
      "execution_count": 189,
      "outputs": []
    },
    {
      "cell_type": "code",
      "source": [
        "baseMat = base25[base25['etapaNome'] == 'Matriculado'].drop_duplicates(subset=['pessoaNome'])\n",
        "baseNaoMat = base25[base25['etapaNome'] != 'Matriculado']\n",
        "base25 = pd.concat([baseMat, baseNaoMat], ignore_index=True)"
      ],
      "metadata": {
        "id": "53tDqtgD5Or9"
      },
      "execution_count": 190,
      "outputs": []
    },
    {
      "cell_type": "code",
      "source": [
        "dados = {\n",
        "    \"pessoaNome\": [\n",
        "        \"Julia Santiago Cuneo Danigno\", \"Ana Paula Ramos Da Silva\",\n",
        "        \"Joao Pedro De Souza Paulino\", \"Aline De Lima Tavares\",\n",
        "        \"Luiz Henrique Araujo Da Silva\", \"Beatriz Zoldan Gonçalves\",\n",
        "        \"Pedro Henrique Amorim Santos\", \"Ester Caetano Santos Silva\",\n",
        "        \"Lucas Hideki Mendes Tanaka\", \"Sarah Mariana Silva Ribeiro\",\n",
        "        \"Keviny Felix pina\", \"Henrique Noé Diniz\",\n",
        "        \"Albert Dos Santos Mariano\", \"Karen dos Anjos Hashimoto\",\n",
        "        \"João Vitor Isicawa Gonçalves\", \"Luis Fernando dos Santos Araújo\",\n",
        "        \"Pedro Charletto Pereira\", \"Gabriela França Da Rocha\",\n",
        "        \"Paola Marinho dos Santos\", \"Henrique Pinheiro De Lima\",\n",
        "        \"Giovanna Pesente\", \"Maria Eduarda Gomes Rodrigues Muniz\",\n",
        "        \"Alexandra Silva Rocha\", \"Erick Henrique do Bom Jesus Ferreira\"\n",
        "    ],\n",
        "    \"campanhaTracking\": [\n",
        "        None, None, None, None, None, None, None, None, \"CAC\",\n",
        "        \"CAC\", \"CAC\", \"CAC\", \"CAC\", None, None,\n",
        "        \"prospeccao_-_formas_de_ingresso_2025-1_-_envio_2_nao_abriram_e-mail_anterior\",\n",
        "        None, None, None, None, None, None, None, None\n",
        "    ],\n",
        "    \"origemCampanha\": [\n",
        "        \"Instagram\", \"Instagram\", \"Google\", \"Google\",\n",
        "        \"Facebook\", \"TikTok\", \"Facebook\", \"Facebook\",\n",
        "        \"Acesso direto\", \"Acesso direto\", \"Acesso direto\", \"Acesso direto\",\n",
        "        \"Acesso direto\", \"Google\", \"Google\", \"Gmail\",\n",
        "        \"Google\", \"Acesso direto\", \"Acesso direto\", \"Google\",\n",
        "        \"Google\", \"Google\", \"Google\", \"Gmail\"\n",
        "    ],\n",
        "    \"tipoOrigemCampanha\": [\n",
        "        \"Acesso direto\", \"Acesso direto\", \"Acesso direto\", \"Acesso direto\",\n",
        "        \"Acesso direto\", \"Acesso direto\", \"Acesso direto\", \"Acesso direto\",\n",
        "        \"Acesso direto\", \"Acesso direto\", \"Acesso direto\", \"Acesso direto\",\n",
        "        \"Acesso direto\", \"Busca Orgânica\", \"Acesso direto\", \"Email\",\n",
        "        \"Busca Orgânica\", \"Acesso direto\", \"Acesso direto\", \"Busca Orgânica\",\n",
        "        \"Busca Orgânica\", \"Busca Orgânica\", \"Busca Orgânica\", \"Email\"\n",
        "    ],\n",
        "    \"urlOrigemCampanha\": [\n",
        "        None, None, None, None, None, None, None, None, None, None, None,\n",
        "        None, None, None, None, None, None, None, None, None, None, None,\n",
        "        None, None\n",
        "    ],\n",
        "    \"dispositivoCampanha\": [\n",
        "        \"Smartphone\", \"Computador\", \"Smartphone\", \"Computador\",\n",
        "        \"Smartphone\", \"Computador\", \"Smartphone\", \"Computador\",\n",
        "        \"Smartphone\", \"Computador\", \"Smartphone\", \"Computador\",\n",
        "        \"Computador\", \"Computador\", \"Computador\", \"Smartphone\",\n",
        "        \"Computador\", \"Computador\", \"Computador\", \"Computador\",\n",
        "        \"Computador\", \"Computador\", \"Smartphone\", \"Smartphone\"\n",
        "    ],\n",
        "    \"utmSourceCampanha\": [\n",
        "        \"CAC\", \"CAC\", \"CAC\", \"CAC\", \"CAC\", \"CAC\", \"CAC\", \"CAC\",\n",
        "        \"CAC\", \"CAC\", \"CAC\", \"CAC\", \"CAC\", None, None, None,\n",
        "        None, None, None, None, None, None, None, None\n",
        "    ],\n",
        "    \"utmMediumCampanha\": [\n",
        "        \"CAC\", \"CAC\", \"CAC\", \"CAC\", \"CAC\", \"CAC\", \"CAC\", \"CAC\",\n",
        "        \"CAC\", \"CAC\", \"CAC\", \"CAC\", \"CAC\", None, None, None,\n",
        "        None, None, None, None, None, None, None, None\n",
        "    ]\n",
        "}\n",
        "\n",
        "# Criar um DataFrame a partir do dicionário\n",
        "novos_dados = pd.DataFrame(dados)\n",
        "\n",
        "# Realizar o merge (junção) com base na coluna 'Nome'\n",
        "base25 = base25.merge(novos_dados, on='pessoaNome', how='left', suffixes=('', '_novo'))\n",
        "\n",
        "# Atualizar os campos na base25 com os dados da nova base\n",
        "for coluna in novos_dados.columns:\n",
        "    if coluna != 'pessoaNome':\n",
        "        base25[coluna].fillna(base25[f'{coluna}_novo'], inplace=True)\n",
        "\n",
        "# Remover as colunas auxiliares criadas pelo merge\n",
        "base25.drop(columns=[f'{coluna}_novo' for coluna in novos_dados.columns if coluna != 'pessoaNome'], inplace=True)\n",
        "\n",
        "base25.drop(columns='nomePessoa', inplace=True)\n",
        "\n",
        "base25 = base25.drop(columns=['idRegistro'])"
      ],
      "metadata": {
        "id": "SxXDnwlBDh_I",
        "colab": {
          "base_uri": "https://localhost:8080/"
        },
        "outputId": "e5378928-a9e6-4c3c-a3e7-c5cdec845351"
      },
      "execution_count": 191,
      "outputs": [
        {
          "output_type": "stream",
          "name": "stderr",
          "text": [
            "<ipython-input-191-6f1c04b2782d>:72: FutureWarning: A value is trying to be set on a copy of a DataFrame or Series through chained assignment using an inplace method.\n",
            "The behavior will change in pandas 3.0. This inplace method will never work because the intermediate object on which we are setting values always behaves as a copy.\n",
            "\n",
            "For example, when doing 'df[col].method(value, inplace=True)', try using 'df.method({col: value}, inplace=True)' or df[col] = df[col].method(value) instead, to perform the operation inplace on the original object.\n",
            "\n",
            "\n",
            "  base25[coluna].fillna(base25[f'{coluna}_novo'], inplace=True)\n"
          ]
        }
      ]
    },
    {
      "cell_type": "code",
      "execution_count": 192,
      "metadata": {
        "id": "80MvCyH0fAHZ"
      },
      "outputs": [],
      "source": [
        "att_plan('Monitoramento Inscrições e Matrículas - 25.1', 'base', base25)"
      ]
    },
    {
      "cell_type": "code",
      "execution_count": 193,
      "metadata": {
        "id": "RI9CZS7Q2apb"
      },
      "outputs": [],
      "source": [
        "dataHora = base25['att_em'].max()\n",
        "dataHora = dataHora[:-3]\n",
        "data = dataHora[:-6]\n",
        "inscritos25 = len(base25[base25['processoNome'] == 'Site'])\n",
        "\n",
        "comparativo['posicaoHoje'] = comparativo['posicaoHoje'].astype(float)\n",
        "comparativo['posicao'] = comparativo['posicao'].astype(float)\n",
        "\n",
        "inscritos24Hoje = len(comparativo[\n",
        "    (comparativo['Intake'] == '20241') &\n",
        "    (comparativo['posicao'] <= comparativo['posicaoHoje']) &\n",
        "    (comparativo['processoNome'] != 'Google Form Leads')\n",
        "])\n",
        "\n",
        "crescimentoInscricao = (inscritos25 - inscritos24Hoje) / inscritos24Hoje\n",
        "comparativo['crescimentoInscricoes'] = crescimentoInscricao\n",
        "crescimentoInscricao = crescimentoInscricao * 100\n",
        "crescimentoInscricao = f'{crescimentoInscricao:.2f}'\n",
        "\n",
        "# data24 recebe a dataHora menos 364 dias\n",
        "dataHora = pd.to_datetime(dataHora, dayfirst=True)\n",
        "data24 = dataHora - pd.DateOffset(days=364)\n",
        "data24 = data24.strftime('%d/%m/%Y')\n",
        "\n",
        "dataHora = pd.to_datetime(dataHora, dayfirst=True)\n",
        "dataHora = dataHora.strftime('%d/%m/%Y - %H:%M')\n",
        "\n",
        "matriculados25 = len(comparativo[(comparativo['Intake'] == '20251') & (comparativo['Matriculado'] == 'Matriculado')])\n",
        "\n",
        "comparativo['posicaoMatricula'] = comparativo['posicaoMatricula'].astype(float)\n",
        "matriculados24Hoje = len(comparativo[\n",
        "    (comparativo['Intake'] == '20241') &\n",
        "    (comparativo['posicaoMatricula'] <= comparativo['posicaoHoje']) &\n",
        "    (comparativo['Matriculado'] == 'Matriculado')\n",
        "])\n",
        "\n",
        "crescimentoMatriculas = (matriculados25 - matriculados24Hoje) / matriculados24Hoje\n",
        "comparativo['crescimentoMatriculas'] = crescimentoMatriculas\n",
        "crescimentoMatriculas = crescimentoMatriculas * 100\n",
        "crescimentoMatriculas = f'{crescimentoMatriculas:.2f}'\n",
        "\n",
        "comparativo['taxaConversao251'] = matriculados25 / inscritos25\n",
        "comparativo['taxaConversao241'] = matriculados24Hoje / inscritos24Hoje"
      ]
    },
    {
      "cell_type": "code",
      "source": [],
      "metadata": {
        "id": "5whV5HD55_uh"
      },
      "execution_count": 193,
      "outputs": []
    },
    {
      "cell_type": "code",
      "source": [
        "base25 = base25.reset_index(drop=True)\n",
        "base25['posicaoHoje'][0]"
      ],
      "metadata": {
        "id": "f6evALIX6EpV",
        "colab": {
          "base_uri": "https://localhost:8080/"
        },
        "outputId": "c7036f56-a95a-4762-e641-29da7b7adcb4"
      },
      "execution_count": 194,
      "outputs": [
        {
          "output_type": "execute_result",
          "data": {
            "text/plain": [
              "124"
            ]
          },
          "metadata": {},
          "execution_count": 194
        }
      ]
    },
    {
      "cell_type": "code",
      "execution_count": 195,
      "metadata": {
        "id": "lYPiPr4W331S"
      },
      "outputs": [],
      "source": [
        "base25['posicao'] = base25['posicao'].astype(int)\n",
        "inscritos25Ontem = len(base25[base25['posicao'] == (base25['posicaoHoje'][0] - 1) ])\n",
        "inscritos25SoHoje = len(base25[base25['posicao'] == base25['posicaoHoje'][0] ])\n",
        "\n",
        "df24 = comparativo[(comparativo['Intake'] == '20241') & (comparativo['processoNome'] != 'Google Form Leads')]\n",
        "df24['posicao'] = df24['posicao'].astype(int)\n",
        "df24['posicaoHoje'] = df24['posicaoHoje'].astype(int)\n",
        "inscritos24Ontem = len(df24[df24['posicao'] == (df24['posicaoHoje'][0] - 1) ])\n",
        "inscritos24SoHoje = len(df24[df24['posicao'] == df24['posicaoHoje'][0] ])\n",
        "\n",
        "\n",
        "crescimentoInscricaoSoHoje = ((inscritos25SoHoje - inscritos24SoHoje) / inscritos24SoHoje * 100)\n",
        "crescimentoInscricaoSoHoje = f'{crescimentoInscricaoSoHoje:.2f}'\n",
        "\n",
        "crescimentoInscricaoOntem = ((inscritos25Ontem - inscritos24Ontem) / inscritos24Ontem * 100)\n",
        "crescimentoInscricaoOntem = f'{crescimentoInscricaoOntem:.2f}'\n",
        "\n",
        "diaOntem25 = pd.to_datetime(dataHora, dayfirst=True) - pd.DateOffset(days=1)\n",
        "diaOntem24 = diaOntem25 - pd.DateOffset(days=364)\n",
        "diaOntem25 = diaOntem25.strftime('%d/%m/%Y')\n",
        "diaOntem24 = diaOntem24.strftime('%d/%m/%Y')"
      ]
    },
    {
      "cell_type": "code",
      "execution_count": 196,
      "metadata": {
        "id": "SbbO1Nhl-Jdy"
      },
      "outputs": [],
      "source": [
        "att_plan('Monitoramento Inscrições e Matrículas - 25.1', 'comparativo', comparativo)"
      ]
    },
    {
      "cell_type": "code",
      "source": [],
      "metadata": {
        "id": "e9A4-mk0xYLP"
      },
      "execution_count": 196,
      "outputs": []
    },
    {
      "cell_type": "code",
      "execution_count": 197,
      "metadata": {
        "id": "UOhPoSGs2Xht"
      },
      "outputs": [],
      "source": [
        "Site = len(base25[(base25['etapaNome'] != 'Pré-Inscrito') & (base25['baseDeOrigem'] == 'SITE')])\n",
        "PreFeteps = len(base25[(base25['etapaNome'] != 'Pré-Inscrito') & (base25['baseDeOrigem'] == 'PRÉ-INSCRITO VESTIBULAR - FETEPS')])\n",
        "PreSite = len(base25[(base25['etapaNome'] != 'Pré-Inscrito') & (base25['baseDeOrigem'] == 'PRÉ-INSCRITO VESTIBULAR - SITE')])\n",
        "CadastroFeteps = len(base25[(base25['etapaNome'] != 'Pré-Inscrito') & (base25['baseDeOrigem'] == 'CADASTRO - FETEPS')])"
      ]
    },
    {
      "cell_type": "code",
      "execution_count": 198,
      "metadata": {
        "id": "Z4hBeF6g2TAl"
      },
      "outputs": [],
      "source": [
        "relatorio  = f'''*MONITORAMENTO GRADUAÇÃO - {dataHora}*\n",
        "\n",
        "*INSCRIÇÕES ONTEM*\n",
        "INSCRITOS ONTEM 25.1 ({diaOntem25}) - {inscritos25Ontem}\n",
        "INSCRITOS ONTEM 24.1 ({diaOntem24}) - {inscritos24Ontem}\n",
        "CRESCIMENTO INSCRITOS ONTEM 25.1 x 24.1 - ({crescimentoInscricaoOntem}%)\n",
        "\n",
        "*INSCRIÇÕES HOJE*\n",
        "INSCRITOS DE HOJE 25.1 ({data}) - {inscritos25SoHoje}\n",
        "INSCRITOS DE HOJE 24.1 ({data24}) - {inscritos24SoHoje}\n",
        "CRESCIMENTO INSCRITOS DE HOJE 25.1 x 24.1 - ({crescimentoInscricaoSoHoje}%)\n",
        "\n",
        "*INSCRIÇÕES TOTAIS*\n",
        "TOTAL DE INSCRITOS 25.1 EM {data} - {inscritos25}\n",
        "TOTAL DE INSCRITOS 24.1 EM {data24} - {inscritos24Hoje}\n",
        "CRESCIMENTO PERCENTUAL INSCRITOS 25.1 x 24.1 - ({crescimentoInscricao}%)\n",
        "\n",
        "*INSCRITOS POR FONTE*\n",
        "SITE - {Site}\n",
        "PRÉ-INSCRITO VESTIBULAR - SITE - {PreSite}\n",
        "PRÉ-INSCRITO VESTIBULAR - FETEPS - {PreFeteps}\n",
        "CADASTRO - FETEPS - {CadastroFeteps}\n",
        "\n",
        "*MATRÍCULAS*\n",
        "TOTAL DE MATRICULADOS 25.1 EM {data}  -  {matriculados25}\n",
        "TOTAL DE MATRICULADOS 24.1 EM {data24}  -  {matriculados24Hoje}\n",
        "CRESCIMENTO PERCENTUAL MATRICULADOS 25.1 x 24.1 - ({crescimentoMatriculas}%)\n",
        "\n",
        "RELATÓRIO DISPONÍVEL EM - https://abre.ai/monitoramento-inscricoes-e-matriculas-251'''"
      ]
    },
    {
      "cell_type": "code",
      "execution_count": 199,
      "metadata": {
        "id": "WR1AdeqdZP1s",
        "colab": {
          "base_uri": "https://localhost:8080/",
          "height": 17
        },
        "outputId": "b1db75e2-8b7d-46e4-86a9-6e9b1bc8fc33"
      },
      "outputs": [
        {
          "output_type": "display_data",
          "data": {
            "text/plain": [
              "<IPython.core.display.Javascript object>"
            ],
            "application/javascript": [
              "\n",
              "    async function download(id, filename, size) {\n",
              "      if (!google.colab.kernel.accessAllowed) {\n",
              "        return;\n",
              "      }\n",
              "      const div = document.createElement('div');\n",
              "      const label = document.createElement('label');\n",
              "      label.textContent = `Downloading \"${filename}\": `;\n",
              "      div.appendChild(label);\n",
              "      const progress = document.createElement('progress');\n",
              "      progress.max = size;\n",
              "      div.appendChild(progress);\n",
              "      document.body.appendChild(div);\n",
              "\n",
              "      const buffers = [];\n",
              "      let downloaded = 0;\n",
              "\n",
              "      const channel = await google.colab.kernel.comms.open(id);\n",
              "      // Send a message to notify the kernel that we're ready.\n",
              "      channel.send({})\n",
              "\n",
              "      for await (const message of channel.messages) {\n",
              "        // Send a message to notify the kernel that we're ready.\n",
              "        channel.send({})\n",
              "        if (message.buffers) {\n",
              "          for (const buffer of message.buffers) {\n",
              "            buffers.push(buffer);\n",
              "            downloaded += buffer.byteLength;\n",
              "            progress.value = downloaded;\n",
              "          }\n",
              "        }\n",
              "      }\n",
              "      const blob = new Blob(buffers, {type: 'application/binary'});\n",
              "      const a = document.createElement('a');\n",
              "      a.href = window.URL.createObjectURL(blob);\n",
              "      a.download = filename;\n",
              "      div.appendChild(a);\n",
              "      a.click();\n",
              "      div.remove();\n",
              "    }\n",
              "  "
            ]
          },
          "metadata": {}
        },
        {
          "output_type": "display_data",
          "data": {
            "text/plain": [
              "<IPython.core.display.Javascript object>"
            ],
            "application/javascript": [
              "download(\"download_82638c25-5f46-4250-a4c9-2cb25901f9c4\", \"relatorio.txt\", 919)"
            ]
          },
          "metadata": {}
        }
      ],
      "source": [
        "# prompt: Transformando o relatorio em um arquivo txt\n",
        "\n",
        "with open('relatorio.txt', 'w') as f:\n",
        "  f.write(relatorio)\n",
        "\n",
        "from google.colab import files\n",
        "files.download('relatorio.txt')\n"
      ]
    },
    {
      "cell_type": "code",
      "source": [],
      "metadata": {
        "id": "e-5TzCRzHvgg"
      },
      "execution_count": 199,
      "outputs": []
    },
    {
      "cell_type": "code",
      "source": [],
      "metadata": {
        "id": "YQcjnadXHvdB"
      },
      "execution_count": 199,
      "outputs": []
    },
    {
      "cell_type": "code",
      "source": [],
      "metadata": {
        "id": "cPsS00zUHva8"
      },
      "execution_count": 209,
      "outputs": []
    },
    {
      "cell_type": "code",
      "source": [
        "import pandas_gbq\n",
        "from pandas_gbq import to_gbq\n",
        "from google.oauth2 import service_account\n",
        "\n",
        "credencial = service_account.Credentials.from_service_account_file(r'/content/cloud-engineer-444301-r6-a1e2ea45a24e.json',\n",
        "                                                                   scopes=['https://www.googleapis.com/auth/bigquery'])"
      ],
      "metadata": {
        "id": "FLS0K9f2H4LK"
      },
      "execution_count": 201,
      "outputs": []
    },
    {
      "cell_type": "code",
      "source": [
        "base25_gbq = base25.copy()\n",
        "\n",
        "table_schema_base25_gbq = [\n",
        "    {\"name\": \"momento\", \"type\": \"TIMESTAMP\"},\n",
        "    {\"name\": \"minutosEtapa\", \"type\": \"STRING\"},\n",
        "    {\"name\": \"ultimaAlteracaoEtapa\", \"type\": \"STRING\"},\n",
        "    {\"name\": \"pessoa\", \"type\": \"STRING\"},\n",
        "    {\"name\": \"pessoaNome\", \"type\": \"STRING\"},\n",
        "    {\"name\": \"agendamento\", \"type\": \"STRING\"},\n",
        "    {\"name\": \"agendamentoNome\", \"type\": \"STRING\"},\n",
        "    {\"name\": \"ofertaCursoNome\", \"type\": \"STRING\"},\n",
        "    {\"name\": \"processoSeletivoNome\", \"type\": \"STRING\"},\n",
        "    {\"name\": \"unidadeNome\", \"type\": \"STRING\"},\n",
        "    {\"name\": \"modalidadeNome\", \"type\": \"STRING\"},\n",
        "    {\"name\": \"etapaNome\", \"type\": \"STRING\"},\n",
        "    {\"name\": \"statusNome\", \"type\": \"STRING\"},\n",
        "    {\"name\": \"responsavelNome\", \"type\": \"STRING\"},\n",
        "    {\"name\": \"localOfertaNome\", \"type\": \"STRING\"},\n",
        "    {\"name\": \"dias\", \"type\": \"STRING\"},\n",
        "    {\"name\": \"objecaoNome\", \"type\": \"STRING\"},\n",
        "    {\"name\": \"concorrenteNome\", \"type\": \"STRING\"},\n",
        "    {\"name\": \"razaoOportunidadeNome\", \"type\": \"STRING\"},\n",
        "    {\"name\": \"notaEnem\", \"type\": \"STRING\"},\n",
        "    {\"name\": \"compareceuAtividade\", \"type\": \"STRING\"},\n",
        "    {\"name\": \"dataProva\", \"type\": \"TIMESTAMP\"},\n",
        "    {\"name\": \"valorCurso\", \"type\": \"STRING\"},\n",
        "    {\"name\": \"observacaoPerda\", \"type\": \"STRING\"},\n",
        "    {\"name\": \"endereco\", \"type\": \"STRING\"},\n",
        "    {\"name\": \"numero\", \"type\": \"STRING\"},\n",
        "    {\"name\": \"bairro\", \"type\": \"STRING\"},\n",
        "    {\"name\": \"cep\", \"type\": \"STRING\"},\n",
        "    {\"name\": \"email\", \"type\": \"STRING\"},\n",
        "    {\"name\": \"telefone\", \"type\": \"STRING\"},\n",
        "    {\"name\": \"cpf\", \"type\": \"STRING\"},\n",
        "    {\"name\": \"datanascimento\", \"type\": \"STRING\"},\n",
        "    {\"name\": \"sexo\", \"type\": \"STRING\"},\n",
        "    {\"name\": \"cidadeEstado\", \"type\": \"STRING\"},\n",
        "    {\"name\": \"canalNome\", \"type\": \"STRING\"},\n",
        "    {\"name\": \"processoNome\", \"type\": \"STRING\"},\n",
        "    {\"name\": \"cursoNome\", \"type\": \"STRING\"},\n",
        "    {\"name\": \"codigoPessoa\", \"type\": \"STRING\"},\n",
        "    {\"name\": \"codigoOfertaCurso\", \"type\": \"STRING\"},\n",
        "    {\"name\": \"momentoGanho\", \"type\": \"STRING\"},\n",
        "    {\"name\": \"statusOportunidade\", \"type\": \"STRING\"},\n",
        "    {\"name\": \"escolaDeOrigem\", \"type\": \"STRING\"},\n",
        "    {\"name\": \"empresaConveniada\", \"type\": \"STRING\"},\n",
        "    {\"name\": \"formaingresso\", \"type\": \"STRING\"},\n",
        "    {\"name\": \"tags\", \"type\": \"STRING\"},\n",
        "    {\"name\": \"cupomDeDesconto\", \"type\": \"STRING\"},\n",
        "    {\"name\": \"anoDeEstudoETEC\", \"type\": \"STRING\"},\n",
        "    {\"name\": \"temperatura\", \"type\": \"STRING\"},\n",
        "    {\"name\": \"att_em\", \"type\": \"STRING\"},\n",
        "    {\"name\": \"baseDeOrigem\", \"type\": \"STRING\"},\n",
        "    {\"name\": \"Matriculado\", \"type\": \"STRING\"},\n",
        "    {\"name\": \"dataMatricula\", \"type\": \"TIMESTAMP\"},\n",
        "    {\"name\": \"turnoNome\", \"type\": \"STRING\"},\n",
        "    {\"name\": \"data\", \"type\": \"TIMESTAMP\"},\n",
        "    {\"name\": \"dataInscricao25\", \"type\": \"TIMESTAMP\"},\n",
        "    {\"name\": \"posicao\", \"type\": \"INTEGER\"},\n",
        "    {\"name\": \"dataHoje\", \"type\": \"TIMESTAMP\"},\n",
        "    {\"name\": \"posicaoHoje\", \"type\": \"INTEGER\"},\n",
        "    {\"name\": \"dataMatricula25\", \"type\": \"TIMESTAMP\"},\n",
        "    {\"name\": \"posicaoMatricula\", \"type\": \"STRING\"},\n",
        "    {\"name\": \"diasParaTerminoIntake\", \"type\": \"INTEGER\"},\n",
        "    {\"name\": \"preenchimentoTRV\", \"type\": \"STRING\"},\n",
        "    {\"name\": \"metaMatriculas\", \"type\": \"INTEGER\"},\n",
        "    {\"name\": \"percentualDaMetaMatriculas\", \"type\": \"FLOAT\"},\n",
        "    {\"name\": \"horario\", \"type\": \"STRING\"},\n",
        "    {\"name\": \"matriculasParaMeta\", \"type\": \"INTEGER\"},\n",
        "    {\"name\": \"matriculasPorDia\", \"type\": \"FLOAT\"},\n",
        "    {\"name\": \"inscricoesParaMeta\", \"type\": \"INTEGER\"},\n",
        "    {\"name\": \"inscricoesPorDia\", \"type\": \"FLOAT\"},\n",
        "    {\"name\": \"percentualDaMetaInscricoes\", \"type\": \"FLOAT\"},\n",
        "    {\"name\": \"idDoContato\", \"type\": \"STRING\"},\n",
        "    {\"name\": \"campanhaTracking\", \"type\": \"STRING\"},\n",
        "    {\"name\": \"origemCampanha\", \"type\": \"STRING\"},\n",
        "    {\"name\": \"tipoOrigemCampanha\", \"type\": \"STRING\"},\n",
        "    {\"name\": \"urlOrigemCampanha\", \"type\": \"STRING\"},\n",
        "    {\"name\": \"dispositivoCampanha\", \"type\": \"STRING\"},\n",
        "    {\"name\": \"utmSourceCampanha\", \"type\": \"STRING\"},\n",
        "    {\"name\": \"utmMediumCampanha\", \"type\": \"STRING\"},\n",
        "    {\"name\": \"utmContentCampanha\", \"type\": \"STRING\"}\n",
        "]\n",
        "\n",
        "\n",
        "\n",
        "# Carregar para o BigQuery com o esquema especificado\n",
        "to_gbq(\n",
        "    dataframe=base25_gbq,  # Substitua pelo seu DataFrame\n",
        "    destination_table=\"teste02_sp_dw.teste02_base\",\n",
        "    project_id=\"cloud-engineer-444301-r6\",\n",
        "    if_exists=\"replace\",  # Opções: \"fail\", \"replace\", \"append\"\n",
        "    table_schema=table_schema_base25_gbq,  # Especifica o esquema da tabela\n",
        "    credentials=credencial,  # Sua credencial configurada\n",
        ")\n"
      ],
      "metadata": {
        "colab": {
          "base_uri": "https://localhost:8080/"
        },
        "id": "upRlDGCEKDPB",
        "outputId": "61f03f87-9a6f-477d-a734-5187a86e540e"
      },
      "execution_count": 202,
      "outputs": [
        {
          "output_type": "stream",
          "name": "stderr",
          "text": [
            "100%|██████████| 1/1 [00:00<00:00, 1664.41it/s]\n"
          ]
        }
      ]
    },
    {
      "cell_type": "code",
      "source": [
        "baseTracking_gbq = baseTracking.copy()\n",
        "\n",
        "table_schema_baseTracking_gbq = [\n",
        "    {\"name\": \"idDoContato\", \"type\": \"STRING\"},\n",
        "    {\"name\": \"momentoInteracao\", \"type\": \"STRING\"},\n",
        "    {\"name\": \"idRegistro\", \"type\": \"STRING\"},\n",
        "    {\"name\": \"momentoCriacaoRegistro\", \"type\": \"STRING\"},\n",
        "    {\"name\": \"minutosEtapa\", \"type\": \"STRING\"},\n",
        "    {\"name\": \"ultimaAlteracaoEtapa\", \"type\": \"STRING\"},\n",
        "    {\"name\": \"formaIngresso\", \"type\": \"STRING\"},\n",
        "    {\"name\": \"nomePessoa\", \"type\": \"STRING\"},\n",
        "    {\"name\": \"pessoaCodigo\", \"type\": \"STRING\"},\n",
        "    {\"name\": \"agendamento\", \"type\": \"STRING\"},\n",
        "    {\"name\": \"agendamentoNome\", \"type\": \"STRING\"},\n",
        "    {\"name\": \"ofertaCursoNome\", \"type\": \"STRING\"},\n",
        "    {\"name\": \"processoSeletivoNome\", \"type\": \"STRING\"},\n",
        "    {\"name\": \"unidadeNome\", \"type\": \"STRING\"},\n",
        "    {\"name\": \"modalidadeNome\", \"type\": \"STRING\"},\n",
        "    {\"name\": \"etapaNome\", \"type\": \"STRING\"},\n",
        "    {\"name\": \"statusNome\", \"type\": \"STRING\"},\n",
        "    {\"name\": \"responsavelNome\", \"type\": \"STRING\"},\n",
        "    {\"name\": \"localOfertaNome\", \"type\": \"STRING\"},\n",
        "    {\"name\": \"dias\", \"type\": \"STRING\"},\n",
        "    {\"name\": \"objecaoNome\", \"type\": \"STRING\"},\n",
        "    {\"name\": \"concorrenteNome\", \"type\": \"STRING\"},\n",
        "    {\"name\": \"razaoOportunidadeNome\", \"type\": \"STRING\"},\n",
        "    {\"name\": \"dataProva\", \"type\": \"STRING\"},\n",
        "    {\"name\": \"valorCurso\", \"type\": \"STRING\"},\n",
        "    {\"name\": \"observacaoPerda\", \"type\": \"STRING\"},\n",
        "    {\"name\": \"canalNome\", \"type\": \"STRING\"},\n",
        "    {\"name\": \"processoNome\", \"type\": \"STRING\"},\n",
        "    {\"name\": \"campanhaTracking\", \"type\": \"STRING\"},\n",
        "    {\"name\": \"origemCampanha\", \"type\": \"STRING\"},\n",
        "    {\"name\": \"tipoOrigemCampanha\", \"type\": \"STRING\"},\n",
        "    {\"name\": \"urlOrigemCampanha\", \"type\": \"STRING\"},\n",
        "    {\"name\": \"dispositivoCampanha\", \"type\": \"STRING\"},\n",
        "    {\"name\": \"utmSourceCampanha\", \"type\": \"STRING\"},\n",
        "    {\"name\": \"utmMediumCampanha\", \"type\": \"STRING\"},\n",
        "    {\"name\": \"utmContentCampanha\", \"type\": \"STRING\"},\n",
        "    {\"name\": \"utmCampaign\", \"type\": \"STRING\"},\n",
        "    {\"name\": \"utmTerm\", \"type\": \"STRING\"},\n",
        "    {\"name\": \"momentoUltimoGanho\", \"type\": \"STRING\"}\n",
        "]\n",
        "\n",
        "\n",
        "\n",
        "# Carregar para o BigQuery com o esquema especificado\n",
        "to_gbq(\n",
        "    dataframe=baseTracking_gbq,  # Substitua pelo seu DataFrame\n",
        "    destination_table=\"teste02_sp_dw.teste02_baseTrackingTratada\",\n",
        "    project_id=\"cloud-engineer-444301-r6\",\n",
        "    if_exists=\"replace\",  # Opções: \"fail\", \"replace\", \"append\"\n",
        "    table_schema=table_schema_baseTracking_gbq,  # Especifica o esquema da tabela\n",
        "    credentials=credencial,  # Sua credencial configurada\n",
        ")\n"
      ],
      "metadata": {
        "colab": {
          "base_uri": "https://localhost:8080/"
        },
        "id": "uLUw6JNJUzOA",
        "outputId": "c6eea843-8666-4313-eb77-beb48b8e465b"
      },
      "execution_count": 203,
      "outputs": [
        {
          "output_type": "stream",
          "name": "stderr",
          "text": [
            "100%|██████████| 1/1 [00:00<00:00, 7825.19it/s]\n"
          ]
        }
      ]
    },
    {
      "cell_type": "code",
      "source": [
        "comparativo.momento = pd.to_datetime(comparativo.momento)\n",
        "\n",
        "baseComparativo_gbq = comparativo.copy()\n",
        "\n",
        "table_schema_baseComparativo_gbq = [\n",
        "    {\"name\": \"momento\", \"type\": \"DATETIME\"},\n",
        "    {\"name\": \"minutosEtapa\", \"type\": \"STRING\"},\n",
        "    {\"name\": \"ultimaAlteracaoEtapa\", \"type\": \"STRING\"},\n",
        "    {\"name\": \"pessoa\", \"type\": \"STRING\"},\n",
        "    {\"name\": \"pessoaNome\", \"type\": \"STRING\"},\n",
        "    {\"name\": \"agendamento\", \"type\": \"STRING\"},\n",
        "    {\"name\": \"agendamentoNome\", \"type\": \"STRING\"},\n",
        "    {\"name\": \"ofertaCursoNome\", \"type\": \"STRING\"},\n",
        "    {\"name\": \"processoSeletivoNome\", \"type\": \"STRING\"},\n",
        "    {\"name\": \"unidadeNome\", \"type\": \"STRING\"},\n",
        "    {\"name\": \"modalidadeNome\", \"type\": \"STRING\"},\n",
        "    {\"name\": \"etapaNome\", \"type\": \"STRING\"},\n",
        "    {\"name\": \"statusNome\", \"type\": \"STRING\"},\n",
        "    {\"name\": \"responsavelNome\", \"type\": \"STRING\"},\n",
        "    {\"name\": \"localOfertaNome\", \"type\": \"STRING\"},\n",
        "    {\"name\": \"dias\", \"type\": \"STRING\"},\n",
        "    {\"name\": \"objecaoNome\", \"type\": \"STRING\"},\n",
        "    {\"name\": \"concorrenteNome\", \"type\": \"STRING\"},\n",
        "    {\"name\": \"razaoOportunidadeNome\", \"type\": \"STRING\"},\n",
        "    {\"name\": \"notaEnem\", \"type\": \"STRING\"},\n",
        "    {\"name\": \"compareceuAtividade\", \"type\": \"STRING\"},\n",
        "    {\"name\": \"dataProva\", \"type\": \"DATETIME\"},\n",
        "    {\"name\": \"valorCurso\", \"type\": \"STRING\"},\n",
        "    {\"name\": \"observacaoPerda\", \"type\": \"STRING\"},\n",
        "    {\"name\": \"endereco\", \"type\": \"STRING\"},\n",
        "    {\"name\": \"numero\", \"type\": \"STRING\"},\n",
        "    {\"name\": \"bairro\", \"type\": \"STRING\"},\n",
        "    {\"name\": \"cep\", \"type\": \"STRING\"},\n",
        "    {\"name\": \"email\", \"type\": \"STRING\"},\n",
        "    {\"name\": \"telefone\", \"type\": \"STRING\"},\n",
        "    {\"name\": \"cpf\", \"type\": \"STRING\"},\n",
        "    {\"name\": \"datanascimento\", \"type\": \"STRING\"},\n",
        "    {\"name\": \"sexo\", \"type\": \"STRING\"},\n",
        "    {\"name\": \"cidadeEstado\", \"type\": \"STRING\"},\n",
        "    {\"name\": \"canalNome\", \"type\": \"STRING\"},\n",
        "    {\"name\": \"processoNome\", \"type\": \"STRING\"},\n",
        "    {\"name\": \"cursoNome\", \"type\": \"STRING\"},\n",
        "    {\"name\": \"idRegistro\", \"type\": \"STRING\"},\n",
        "    {\"name\": \"codigoPessoa\", \"type\": \"STRING\"},\n",
        "    {\"name\": \"codigoOfertaCurso\", \"type\": \"STRING\"},\n",
        "    {\"name\": \"momentoGanho\", \"type\": \"STRING\"},\n",
        "    {\"name\": \"statusOportunidade\", \"type\": \"STRING\"},\n",
        "    {\"name\": \"escolaDeOrigem\", \"type\": \"STRING\"},\n",
        "    {\"name\": \"empresaConveniada\", \"type\": \"STRING\"},\n",
        "    {\"name\": \"formaingresso\", \"type\": \"STRING\"},\n",
        "    {\"name\": \"tags\", \"type\": \"STRING\"},\n",
        "    {\"name\": \"cupomDeDesconto\", \"type\": \"STRING\"},\n",
        "    {\"name\": \"anoDeEstudoETEC\", \"type\": \"STRING\"},\n",
        "    {\"name\": \"temperatura\", \"type\": \"STRING\"},\n",
        "    {\"name\": \"att_em\", \"type\": \"STRING\"},\n",
        "    {\"name\": \"baseDeOrigem\", \"type\": \"STRING\"},\n",
        "    {\"name\": \"Matriculado\", \"type\": \"STRING\"},\n",
        "    {\"name\": \"dataMatricula\", \"type\": \"DATETIME\"},\n",
        "    {\"name\": \"turnoNome\", \"type\": \"STRING\"},\n",
        "    {\"name\": \"data\", \"type\": \"DATETIME\"},\n",
        "    {\"name\": \"dataInscricao25\", \"type\": \"DATETIME\"},\n",
        "    {\"name\": \"posicao\", \"type\": \"FLOAT\"},\n",
        "    {\"name\": \"dataHoje\", \"type\": \"DATETIME\"},\n",
        "    {\"name\": \"posicaoHoje\", \"type\": \"FLOAT\"},\n",
        "    {\"name\": \"dataMatricula25\", \"type\": \"DATETIME\"},\n",
        "    {\"name\": \"posicaoMatricula\", \"type\": \"FLOAT\"},\n",
        "    {\"name\": \"diasParaTerminoIntake\", \"type\": \"FLOAT\"},\n",
        "    {\"name\": \"preenchimentoTRV\", \"type\": \"STRING\"},\n",
        "    {\"name\": \"metaMatriculas\", \"type\": \"FLOAT\"},\n",
        "    {\"name\": \"percentualDaMetaMatriculas\", \"type\": \"FLOAT\"},\n",
        "    {\"name\": \"horario\", \"type\": \"STRING\"},\n",
        "    {\"name\": \"matriculasParaMeta\", \"type\": \"FLOAT\"},\n",
        "    {\"name\": \"matriculasPorDia\", \"type\": \"FLOAT\"},\n",
        "    {\"name\": \"inscricoesParaMeta\", \"type\": \"FLOAT\"},\n",
        "    {\"name\": \"inscricoesPorDia\", \"type\": \"FLOAT\"},\n",
        "    {\"name\": \"percentualDaMetaInscricoes\", \"type\": \"FLOAT\"},\n",
        "    {\"name\": \"Intake\", \"type\": \"STRING\"},\n",
        "    {\"name\": \"dataInscricao24\", \"type\": \"DATETIME\"},\n",
        "    {\"name\": \"dataMatricula24\", \"type\": \"DATETIME\"},\n",
        "    {\"name\": \"crescimentoInscricoes\", \"type\": \"FLOAT\"},\n",
        "    {\"name\": \"crescimentoMatriculas\", \"type\": \"FLOAT\"},\n",
        "    {\"name\": \"taxaConversao251\", \"type\": \"FLOAT\"},\n",
        "    {\"name\": \"taxaConversao241\", \"type\": \"FLOAT\"}\n",
        "]\n",
        "\n",
        "\n",
        "\n",
        "# Carregar para o BigQuery com o esquema especificado\n",
        "to_gbq(\n",
        "    dataframe=baseComparativo_gbq,  # Substitua pelo seu DataFrame\n",
        "    destination_table=\"teste02_sp_dw.teste02_baseComparativo\",\n",
        "    project_id=\"cloud-engineer-444301-r6\",\n",
        "    if_exists=\"replace\",  # Opções: \"fail\", \"replace\", \"append\"\n",
        "    table_schema=table_schema_baseComparativo_gbq,  # Especifica o esquema da tabela\n",
        "    credentials=credencial,  # Sua credencial configurada\n",
        ")\n"
      ],
      "metadata": {
        "colab": {
          "base_uri": "https://localhost:8080/"
        },
        "id": "c1lEHig9UPAr",
        "outputId": "267dae93-7329-4732-cd80-cdfa5e5eb261"
      },
      "execution_count": 209,
      "outputs": [
        {
          "output_type": "stream",
          "name": "stderr",
          "text": [
            "100%|██████████| 1/1 [00:00<00:00, 7667.83it/s]\n"
          ]
        }
      ]
    }
  ],
  "metadata": {
    "colab": {
      "provenance": [],
      "authorship_tag": "ABX9TyMU58wVK/8cVACG/M9RLogY",
      "include_colab_link": true
    },
    "kernelspec": {
      "display_name": "Python 3",
      "name": "python3"
    },
    "language_info": {
      "name": "python"
    }
  },
  "nbformat": 4,
  "nbformat_minor": 0
}